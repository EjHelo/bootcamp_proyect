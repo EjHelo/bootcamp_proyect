{
 "cells": [
  {
   "cell_type": "markdown",
   "metadata": {},
   "source": [
    "# Regression\n",
    "\n",
    "The Regression is a Machine Learning supervised method which predicts the mean of a quantitative dependent variable. For this dataset we are going to use Linear Regression, it is a supervised statistical model. This model solves the equation: $$Y = \\beta_{1}X_{1}+...+\\beta_{p}X_{p}$$ for $\\beta = (\\beta_{1},...,\\beta_{p})$ using the least squares method, where $Y$ is the dependent variable and $X_{i}$ are the independent variables (or features) for $i = 1,...,p$. Sckit Learn has the function \"linear_model.LinearRegression\" that performes this task.\n"
   ]
  },
  {
   "cell_type": "markdown",
   "metadata": {},
   "source": [
    "Before using the function, we need to prepare the data. LinearRegression only accepts numbers and does not accept missed values (NaN), that's why we have to clean the dataset first. First of all, we load the dataset:"
   ]
  },
  {
   "cell_type": "code",
   "execution_count": 5,
   "metadata": {},
   "outputs": [],
   "source": [
    "import pandas as pd\n",
    "import numpy as np\n",
    "\n",
    "df2 = pd.read_csv(\"data/201801-fordgobike-tripdata.csv\",parse_dates=True)\n",
    "df3 = pd.read_csv(\"data/201802-fordgobike-tripdata.csv\",parse_dates=True)\n",
    "df4 = pd.read_csv(\"data/201803-fordgobike-tripdata.csv\",parse_dates=True)\n",
    "df5 = pd.read_csv(\"data/201804-fordgobike-tripdata.csv\",parse_dates=True)\n",
    "df6 = pd.read_csv(\"data/201805-fordgobike-tripdata.csv\",parse_dates=True)\n",
    "df7 = pd.read_csv(\"data/201806-fordgobike-tripdata.csv\",parse_dates=True)\n",
    "df8 = pd.read_csv(\"data/201807-fordgobike-tripdata.csv\",parse_dates=True)\n",
    "\n",
    "df = pd.concat([df2, df3, df4, df5, df6, df7, df8], axis=0)"
   ]
  },
  {
   "cell_type": "markdown",
   "metadata": {},
   "source": [
    "Then we remove the missing values:"
   ]
  },
  {
   "cell_type": "code",
   "execution_count": 7,
   "metadata": {},
   "outputs": [],
   "source": [
    "mediana = df['member_birth_year'].median()\n",
    "df['member_birth_year'] = df['member_birth_year'].replace(np.NaN, mediana)\n",
    "df['member_gender'] = df['member_gender'].fillna('Other')\n",
    "df = df[np.isfinite(df['end_station_id'])]"
   ]
  },
  {
   "cell_type": "markdown",
   "metadata": {},
   "source": [
    "Now we code the qualitative variables so they have numeric values:"
   ]
  },
  {
   "cell_type": "code",
   "execution_count": 9,
   "metadata": {},
   "outputs": [
    {
     "data": {
      "text/html": [
       "<div>\n",
       "<style scoped>\n",
       "    .dataframe tbody tr th:only-of-type {\n",
       "        vertical-align: middle;\n",
       "    }\n",
       "\n",
       "    .dataframe tbody tr th {\n",
       "        vertical-align: top;\n",
       "    }\n",
       "\n",
       "    .dataframe thead th {\n",
       "        text-align: right;\n",
       "    }\n",
       "</style>\n",
       "<table border=\"1\" class=\"dataframe\">\n",
       "  <thead>\n",
       "    <tr style=\"text-align: right;\">\n",
       "      <th></th>\n",
       "      <th>duration_sec</th>\n",
       "      <th>start_station_id</th>\n",
       "      <th>start_station_latitude</th>\n",
       "      <th>start_station_longitude</th>\n",
       "      <th>end_station_id</th>\n",
       "      <th>end_station_latitude</th>\n",
       "      <th>end_station_longitude</th>\n",
       "      <th>bike_id</th>\n",
       "      <th>member_birth_year</th>\n",
       "      <th>Customer</th>\n",
       "      <th>Subscriber</th>\n",
       "      <th>Female</th>\n",
       "      <th>Male</th>\n",
       "      <th>Other</th>\n",
       "      <th>No</th>\n",
       "      <th>Yes</th>\n",
       "    </tr>\n",
       "  </thead>\n",
       "  <tbody>\n",
       "    <tr>\n",
       "      <th>0</th>\n",
       "      <td>75284</td>\n",
       "      <td>120.0</td>\n",
       "      <td>37.761420</td>\n",
       "      <td>-122.426435</td>\n",
       "      <td>285.0</td>\n",
       "      <td>37.783521</td>\n",
       "      <td>-122.431158</td>\n",
       "      <td>2765</td>\n",
       "      <td>1986.0</td>\n",
       "      <td>0</td>\n",
       "      <td>1</td>\n",
       "      <td>0</td>\n",
       "      <td>1</td>\n",
       "      <td>0</td>\n",
       "      <td>1</td>\n",
       "      <td>0</td>\n",
       "    </tr>\n",
       "    <tr>\n",
       "      <th>1</th>\n",
       "      <td>85422</td>\n",
       "      <td>15.0</td>\n",
       "      <td>37.795392</td>\n",
       "      <td>-122.394203</td>\n",
       "      <td>15.0</td>\n",
       "      <td>37.795392</td>\n",
       "      <td>-122.394203</td>\n",
       "      <td>2815</td>\n",
       "      <td>1985.0</td>\n",
       "      <td>1</td>\n",
       "      <td>0</td>\n",
       "      <td>0</td>\n",
       "      <td>0</td>\n",
       "      <td>1</td>\n",
       "      <td>1</td>\n",
       "      <td>0</td>\n",
       "    </tr>\n",
       "    <tr>\n",
       "      <th>2</th>\n",
       "      <td>71576</td>\n",
       "      <td>304.0</td>\n",
       "      <td>37.348759</td>\n",
       "      <td>-121.894798</td>\n",
       "      <td>296.0</td>\n",
       "      <td>37.325998</td>\n",
       "      <td>-121.877120</td>\n",
       "      <td>3039</td>\n",
       "      <td>1996.0</td>\n",
       "      <td>1</td>\n",
       "      <td>0</td>\n",
       "      <td>0</td>\n",
       "      <td>1</td>\n",
       "      <td>0</td>\n",
       "      <td>1</td>\n",
       "      <td>0</td>\n",
       "    </tr>\n",
       "    <tr>\n",
       "      <th>3</th>\n",
       "      <td>61076</td>\n",
       "      <td>75.0</td>\n",
       "      <td>37.773793</td>\n",
       "      <td>-122.421239</td>\n",
       "      <td>47.0</td>\n",
       "      <td>37.780955</td>\n",
       "      <td>-122.399749</td>\n",
       "      <td>321</td>\n",
       "      <td>1985.0</td>\n",
       "      <td>1</td>\n",
       "      <td>0</td>\n",
       "      <td>0</td>\n",
       "      <td>0</td>\n",
       "      <td>1</td>\n",
       "      <td>1</td>\n",
       "      <td>0</td>\n",
       "    </tr>\n",
       "    <tr>\n",
       "      <th>4</th>\n",
       "      <td>39966</td>\n",
       "      <td>74.0</td>\n",
       "      <td>37.776435</td>\n",
       "      <td>-122.426244</td>\n",
       "      <td>19.0</td>\n",
       "      <td>37.788975</td>\n",
       "      <td>-122.403452</td>\n",
       "      <td>617</td>\n",
       "      <td>1991.0</td>\n",
       "      <td>0</td>\n",
       "      <td>1</td>\n",
       "      <td>0</td>\n",
       "      <td>1</td>\n",
       "      <td>0</td>\n",
       "      <td>1</td>\n",
       "      <td>0</td>\n",
       "    </tr>\n",
       "  </tbody>\n",
       "</table>\n",
       "</div>"
      ],
      "text/plain": [
       "   duration_sec  start_station_id  start_station_latitude  \\\n",
       "0         75284             120.0               37.761420   \n",
       "1         85422              15.0               37.795392   \n",
       "2         71576             304.0               37.348759   \n",
       "3         61076              75.0               37.773793   \n",
       "4         39966              74.0               37.776435   \n",
       "\n",
       "   start_station_longitude  end_station_id  end_station_latitude  \\\n",
       "0              -122.426435           285.0             37.783521   \n",
       "1              -122.394203            15.0             37.795392   \n",
       "2              -121.894798           296.0             37.325998   \n",
       "3              -122.421239            47.0             37.780955   \n",
       "4              -122.426244            19.0             37.788975   \n",
       "\n",
       "   end_station_longitude  bike_id  member_birth_year  Customer  Subscriber  \\\n",
       "0            -122.431158     2765             1986.0         0           1   \n",
       "1            -122.394203     2815             1985.0         1           0   \n",
       "2            -121.877120     3039             1996.0         1           0   \n",
       "3            -122.399749      321             1985.0         1           0   \n",
       "4            -122.403452      617             1991.0         0           1   \n",
       "\n",
       "   Female  Male  Other  No  Yes  \n",
       "0       0     1      0   1    0  \n",
       "1       0     0      1   1    0  \n",
       "2       0     1      0   1    0  \n",
       "3       0     0      1   1    0  \n",
       "4       0     1      0   1    0  "
      ]
     },
     "execution_count": 9,
     "metadata": {},
     "output_type": "execute_result"
    }
   ],
   "source": [
    "dummies_user_type = pd.get_dummies(df.user_type)\n",
    "merged_user_type = pd.concat([df, dummies_user_type],axis='columns')\n",
    "df_temporal = merged_user_type.drop(['user_type'], axis='columns')\n",
    "dummies_member_gender = pd.get_dummies(df.member_gender)\n",
    "dummies_bike_share = pd.get_dummies(df.bike_share_for_all_trip)\n",
    "merged_gender = pd.concat([df_temporal, dummies_member_gender,dummies_bike_share],axis='columns')\n",
    "df_temporal2 = merged_gender.drop(['member_gender',\"end_time\",\"start_time\",\"bike_share_for_all_trip\",\"end_station_name\",\"start_station_name\"], axis='columns')\n",
    "df_temporal2.head()"
   ]
  },
  {
   "cell_type": "markdown",
   "metadata": {},
   "source": [
    "Now that the dataset is clean, we are ready to use the LinearRegression function. First we choose the feature duration_sec as the dependent variable and the rest of the features as independet variables. Notice that in the code below we drop other features like end_time and start_time because if we have those variables in real life the regression would no be necessary. Also the station names were drop because we alredy have their longitude and latitude."
   ]
  },
  {
   "cell_type": "code",
   "execution_count": 10,
   "metadata": {},
   "outputs": [],
   "source": [
    "y = df_temporal2.pop('duration_sec')\n",
    "X = df_temporal2"
   ]
  },
  {
   "cell_type": "markdown",
   "metadata": {},
   "source": [
    "Then we divide the data in a train set that consists of 70% of the observations and a test set that has the other 30%:"
   ]
  },
  {
   "cell_type": "code",
   "execution_count": 12,
   "metadata": {},
   "outputs": [
    {
     "name": "stderr",
     "output_type": "stream",
     "text": [
      "C:\\Users\\Eric\\Anaconda3\\lib\\site-packages\\sklearn\\cross_validation.py:41: DeprecationWarning: This module was deprecated in version 0.18 in favor of the model_selection module into which all the refactored classes and functions are moved. Also note that the interface of the new CV iterators are different from that of this module. This module will be removed in 0.20.\n",
      "  \"This module will be removed in 0.20.\", DeprecationWarning)\n",
      "C:\\Users\\Eric\\Anaconda3\\lib\\site-packages\\sklearn\\model_selection\\_split.py:2026: FutureWarning: From version 0.21, test_size will always complement train_size unless both are specified.\n",
      "  FutureWarning)\n"
     ]
    }
   ],
   "source": [
    "from sklearn import linear_model,cross_validation\n",
    "from sklearn.model_selection import train_test_split\n",
    "X_train, X_test, y_train, y_test = train_test_split(X, y, train_size = 0.70)\n"
   ]
  },
  {
   "cell_type": "markdown",
   "metadata": {},
   "source": [
    "Now we are ready to fit the model:"
   ]
  },
  {
   "cell_type": "code",
   "execution_count": 13,
   "metadata": {},
   "outputs": [
    {
     "data": {
      "text/plain": [
       "LinearRegression(copy_X=True, fit_intercept=True, n_jobs=1, normalize=False)"
      ]
     },
     "execution_count": 13,
     "metadata": {},
     "output_type": "execute_result"
    }
   ],
   "source": [
    "clf = linear_model.LinearRegression()\n",
    "clf.fit(X_train, y_train)"
   ]
  },
  {
   "cell_type": "markdown",
   "metadata": {},
   "source": [
    "To evaluate the model prediction accuracy we use the Residual Sum of Squares RSS given by: $$\\sum (y_{i}-\\hat{y_{i}})^{2}$$ where the $y_{i}$ are the dependent variables in y_train and $\\hat{y_{i}}$ are the predictions obtained with the model:"
   ]
  },
  {
   "cell_type": "code",
   "execution_count": 40,
   "metadata": {
    "scrolled": true
   },
   "outputs": [
    {
     "name": "stdout",
     "output_type": "stream",
     "text": [
      "[840.69481602 732.78684658 633.82434353 ... 553.23563219 643.98843201\n",
      " 687.67178229]\n",
      "[ 508  424 1273 ...  317 1327 1286]\n"
     ]
    },
    {
     "data": {
      "text/plain": [
       "1879170662645.216"
      ]
     },
     "execution_count": 40,
     "metadata": {},
     "output_type": "execute_result"
    }
   ],
   "source": [
    "y_pred = clf.predict(X_test)\n",
    "print(y_pred)\n",
    "y_test = np.array(y_test)\n",
    "y_test.flatten()\n",
    "print(y_test)\n",
    "#y_pred-y_test\n",
    "RSS = (np.square(y_pred-y_test)).sum()\n",
    "RSS"
   ]
  },
  {
   "cell_type": "markdown",
   "metadata": {},
   "source": [
    "A low RSS means the model is well-fitted, since it is the sum of the square of the diferences between the actual values and the predicted values. The RSS obtained for this model means that the it is poorly fitted, so it's predictions are not good. To improve the predictive power of this model you can do feature selection or cross validation for a better train set selection."
   ]
  }
 ],
 "metadata": {
  "kernelspec": {
   "display_name": "Python 3",
   "language": "python",
   "name": "python3"
  },
  "language_info": {
   "codemirror_mode": {
    "name": "ipython",
    "version": 3
   },
   "file_extension": ".py",
   "mimetype": "text/x-python",
   "name": "python",
   "nbconvert_exporter": "python",
   "pygments_lexer": "ipython3",
   "version": "3.6.5"
  }
 },
 "nbformat": 4,
 "nbformat_minor": 2
}
