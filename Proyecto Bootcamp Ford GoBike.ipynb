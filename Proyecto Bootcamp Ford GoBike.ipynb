{
 "cells": [
  {
   "cell_type": "markdown",
   "metadata": {},
   "source": [
    "# Análisis exploratorio de datos\n",
    "\n",
    "Para este análisis se utilizarán datos de viajes de Ford GoBike, primero se descargan del excel como un dataframe:"
   ]
  },
  {
   "cell_type": "code",
   "execution_count": 28,
   "metadata": {},
   "outputs": [
    {
     "name": "stderr",
     "output_type": "stream",
     "text": [
      "C:\\Users\\Laura\\Anaconda3\\lib\\site-packages\\ipykernel_launcher.py:11: FutureWarning: Sorting because non-concatenation axis is not aligned. A future version\n",
      "of pandas will change to not sort by default.\n",
      "\n",
      "To accept the future behavior, pass 'sort=True'.\n",
      "\n",
      "To retain the current behavior and silence the warning, pass sort=False\n",
      "\n",
      "  # This is added back by InteractiveShellApp.init_path()\n"
     ]
    }
   ],
   "source": [
    "import pandas as pd\n",
    "df1 = pd.read_csv(\"https://s3.amazonaws.com/fordgobike-data/2017-fordgobike-tripdata.csv\",parse_dates=True)\n",
    "df2 = pd.read_csv(\"data/201801-fordgobike-tripdata.csv\",parse_dates=True)\n",
    "df3 = pd.read_csv(\"data/201802-fordgobike-tripdata.csv\",parse_dates=True)\n",
    "df4 = pd.read_csv(\"data/201803-fordgobike-tripdata.csv\",parse_dates=True)\n",
    "df5 = pd.read_csv(\"data/201804-fordgobike-tripdata.csv\",parse_dates=True)\n",
    "df6 = pd.read_csv(\"data/201805-fordgobike-tripdata.csv\",parse_dates=True)\n",
    "df7 = pd.read_csv(\"data/201806-fordgobike-tripdata.csv\",parse_dates=True)\n",
    "df8 = pd.read_csv(\"data/201807-fordgobike-tripdata.csv\",parse_dates=True)\n",
    "\n",
    "df = pd.concat([df1, df2, df3, df4, df5, df6, df7, df8], axis=0)"
   ]
  },
  {
   "cell_type": "markdown",
   "metadata": {},
   "source": [
    "Ahora se acceden las observaciones iniciales:"
   ]
  },
  {
   "cell_type": "code",
   "execution_count": 2,
   "metadata": {},
   "outputs": [
    {
     "data": {
      "text/html": [
       "<div>\n",
       "<style scoped>\n",
       "    .dataframe tbody tr th:only-of-type {\n",
       "        vertical-align: middle;\n",
       "    }\n",
       "\n",
       "    .dataframe tbody tr th {\n",
       "        vertical-align: top;\n",
       "    }\n",
       "\n",
       "    .dataframe thead th {\n",
       "        text-align: right;\n",
       "    }\n",
       "</style>\n",
       "<table border=\"1\" class=\"dataframe\">\n",
       "  <thead>\n",
       "    <tr style=\"text-align: right;\">\n",
       "      <th></th>\n",
       "      <th>bike_id</th>\n",
       "      <th>bike_share_for_all_trip</th>\n",
       "      <th>duration_sec</th>\n",
       "      <th>end_station_id</th>\n",
       "      <th>end_station_latitude</th>\n",
       "      <th>end_station_longitude</th>\n",
       "      <th>end_station_name</th>\n",
       "      <th>end_time</th>\n",
       "      <th>member_birth_year</th>\n",
       "      <th>member_gender</th>\n",
       "      <th>start_station_id</th>\n",
       "      <th>start_station_latitude</th>\n",
       "      <th>start_station_longitude</th>\n",
       "      <th>start_station_name</th>\n",
       "      <th>start_time</th>\n",
       "      <th>user_type</th>\n",
       "    </tr>\n",
       "  </thead>\n",
       "  <tbody>\n",
       "    <tr>\n",
       "      <th>0</th>\n",
       "      <td>96</td>\n",
       "      <td>NaN</td>\n",
       "      <td>80110</td>\n",
       "      <td>43.0</td>\n",
       "      <td>37.778768</td>\n",
       "      <td>-122.415929</td>\n",
       "      <td>San Francisco Public Library (Grove St at Hyde...</td>\n",
       "      <td>2018-01-01 15:12:50.2450</td>\n",
       "      <td>1987.0</td>\n",
       "      <td>Male</td>\n",
       "      <td>74.0</td>\n",
       "      <td>37.776435</td>\n",
       "      <td>-122.426244</td>\n",
       "      <td>Laguna St at Hayes St</td>\n",
       "      <td>2017-12-31 16:57:39.6540</td>\n",
       "      <td>Customer</td>\n",
       "    </tr>\n",
       "    <tr>\n",
       "      <th>1</th>\n",
       "      <td>88</td>\n",
       "      <td>NaN</td>\n",
       "      <td>78800</td>\n",
       "      <td>96.0</td>\n",
       "      <td>37.766210</td>\n",
       "      <td>-122.426614</td>\n",
       "      <td>Dolores St at 15th St</td>\n",
       "      <td>2018-01-01 13:49:55.6170</td>\n",
       "      <td>1965.0</td>\n",
       "      <td>Female</td>\n",
       "      <td>284.0</td>\n",
       "      <td>37.784872</td>\n",
       "      <td>-122.400876</td>\n",
       "      <td>Yerba Buena Center for the Arts (Howard St at ...</td>\n",
       "      <td>2017-12-31 15:56:34.8420</td>\n",
       "      <td>Customer</td>\n",
       "    </tr>\n",
       "    <tr>\n",
       "      <th>2</th>\n",
       "      <td>1094</td>\n",
       "      <td>NaN</td>\n",
       "      <td>45768</td>\n",
       "      <td>245.0</td>\n",
       "      <td>37.870348</td>\n",
       "      <td>-122.267764</td>\n",
       "      <td>Downtown Berkeley BART</td>\n",
       "      <td>2018-01-01 11:28:36.8830</td>\n",
       "      <td>NaN</td>\n",
       "      <td>NaN</td>\n",
       "      <td>245.0</td>\n",
       "      <td>37.870348</td>\n",
       "      <td>-122.267764</td>\n",
       "      <td>Downtown Berkeley BART</td>\n",
       "      <td>2017-12-31 22:45:48.4110</td>\n",
       "      <td>Customer</td>\n",
       "    </tr>\n",
       "    <tr>\n",
       "      <th>3</th>\n",
       "      <td>2831</td>\n",
       "      <td>NaN</td>\n",
       "      <td>62172</td>\n",
       "      <td>5.0</td>\n",
       "      <td>37.783899</td>\n",
       "      <td>-122.408445</td>\n",
       "      <td>Powell St BART Station (Market St at 5th St)</td>\n",
       "      <td>2018-01-01 10:47:23.5310</td>\n",
       "      <td>NaN</td>\n",
       "      <td>NaN</td>\n",
       "      <td>60.0</td>\n",
       "      <td>37.774520</td>\n",
       "      <td>-122.409449</td>\n",
       "      <td>8th St at Ringold St</td>\n",
       "      <td>2017-12-31 17:31:10.6360</td>\n",
       "      <td>Customer</td>\n",
       "    </tr>\n",
       "    <tr>\n",
       "      <th>4</th>\n",
       "      <td>3167</td>\n",
       "      <td>NaN</td>\n",
       "      <td>43603</td>\n",
       "      <td>247.0</td>\n",
       "      <td>37.867789</td>\n",
       "      <td>-122.265896</td>\n",
       "      <td>Fulton St at Bancroft Way</td>\n",
       "      <td>2018-01-01 02:29:57.5710</td>\n",
       "      <td>1997.0</td>\n",
       "      <td>Female</td>\n",
       "      <td>239.0</td>\n",
       "      <td>37.868813</td>\n",
       "      <td>-122.258764</td>\n",
       "      <td>Bancroft Way at Telegraph Ave</td>\n",
       "      <td>2017-12-31 14:23:14.0010</td>\n",
       "      <td>Subscriber</td>\n",
       "    </tr>\n",
       "  </tbody>\n",
       "</table>\n",
       "</div>"
      ],
      "text/plain": [
       "   bike_id bike_share_for_all_trip  duration_sec  end_station_id  \\\n",
       "0       96                     NaN         80110            43.0   \n",
       "1       88                     NaN         78800            96.0   \n",
       "2     1094                     NaN         45768           245.0   \n",
       "3     2831                     NaN         62172             5.0   \n",
       "4     3167                     NaN         43603           247.0   \n",
       "\n",
       "   end_station_latitude  end_station_longitude  \\\n",
       "0             37.778768            -122.415929   \n",
       "1             37.766210            -122.426614   \n",
       "2             37.870348            -122.267764   \n",
       "3             37.783899            -122.408445   \n",
       "4             37.867789            -122.265896   \n",
       "\n",
       "                                    end_station_name  \\\n",
       "0  San Francisco Public Library (Grove St at Hyde...   \n",
       "1                              Dolores St at 15th St   \n",
       "2                             Downtown Berkeley BART   \n",
       "3       Powell St BART Station (Market St at 5th St)   \n",
       "4                          Fulton St at Bancroft Way   \n",
       "\n",
       "                   end_time  member_birth_year member_gender  \\\n",
       "0  2018-01-01 15:12:50.2450             1987.0          Male   \n",
       "1  2018-01-01 13:49:55.6170             1965.0        Female   \n",
       "2  2018-01-01 11:28:36.8830                NaN           NaN   \n",
       "3  2018-01-01 10:47:23.5310                NaN           NaN   \n",
       "4  2018-01-01 02:29:57.5710             1997.0        Female   \n",
       "\n",
       "   start_station_id  start_station_latitude  start_station_longitude  \\\n",
       "0              74.0               37.776435              -122.426244   \n",
       "1             284.0               37.784872              -122.400876   \n",
       "2             245.0               37.870348              -122.267764   \n",
       "3              60.0               37.774520              -122.409449   \n",
       "4             239.0               37.868813              -122.258764   \n",
       "\n",
       "                                  start_station_name  \\\n",
       "0                              Laguna St at Hayes St   \n",
       "1  Yerba Buena Center for the Arts (Howard St at ...   \n",
       "2                             Downtown Berkeley BART   \n",
       "3                               8th St at Ringold St   \n",
       "4                      Bancroft Way at Telegraph Ave   \n",
       "\n",
       "                 start_time   user_type  \n",
       "0  2017-12-31 16:57:39.6540    Customer  \n",
       "1  2017-12-31 15:56:34.8420    Customer  \n",
       "2  2017-12-31 22:45:48.4110    Customer  \n",
       "3  2017-12-31 17:31:10.6360    Customer  \n",
       "4  2017-12-31 14:23:14.0010  Subscriber  "
      ]
     },
     "execution_count": 2,
     "metadata": {},
     "output_type": "execute_result"
    }
   ],
   "source": [
    "sort = False\n",
    "df.head()"
   ]
  },
  {
   "cell_type": "markdown",
   "metadata": {},
   "source": [
    "A continuación, vamos a determinar algunas características básicas de la base de datos, así como los principales estadísticos de la información, para darnos una idea preliminar de los datos con los que se trabajarán. "
   ]
  },
  {
   "cell_type": "code",
   "execution_count": 72,
   "metadata": {},
   "outputs": [
    {
     "data": {
      "text/plain": [
       "Int64Index([     0,      1,      2,      3,      4,      5,      6,      7,\n",
       "                 8,      9,\n",
       "            ...\n",
       "            199212, 199213, 199214, 199215, 199216, 199217, 199218, 199219,\n",
       "            199220, 199221],\n",
       "           dtype='int64', length=1538086)"
      ]
     },
     "execution_count": 72,
     "metadata": {},
     "output_type": "execute_result"
    }
   ],
   "source": [
    "df.index"
   ]
  },
  {
   "cell_type": "code",
   "execution_count": 73,
   "metadata": {},
   "outputs": [
    {
     "data": {
      "text/plain": [
       "Index(['bike_id', 'bike_share_for_all_trip', 'duration_sec', 'end_station_id',\n",
       "       'end_station_latitude', 'end_station_longitude', 'end_station_name',\n",
       "       'end_time', 'member_birth_year', 'member_gender', 'start_station_id',\n",
       "       'start_station_latitude', 'start_station_longitude',\n",
       "       'start_station_name', 'start_time', 'user_type'],\n",
       "      dtype='object')"
      ]
     },
     "execution_count": 73,
     "metadata": {},
     "output_type": "execute_result"
    }
   ],
   "source": [
    "df.columns"
   ]
  },
  {
   "cell_type": "code",
   "execution_count": 74,
   "metadata": {},
   "outputs": [
    {
     "data": {
      "text/plain": [
       "bike_id                      int64\n",
       "bike_share_for_all_trip     object\n",
       "duration_sec                 int64\n",
       "end_station_id             float64\n",
       "end_station_latitude       float64\n",
       "end_station_longitude      float64\n",
       "end_station_name            object\n",
       "end_time                    object\n",
       "member_birth_year          float64\n",
       "member_gender               object\n",
       "start_station_id           float64\n",
       "start_station_latitude     float64\n",
       "start_station_longitude    float64\n",
       "start_station_name          object\n",
       "start_time                  object\n",
       "user_type                   object\n",
       "dtype: object"
      ]
     },
     "execution_count": 74,
     "metadata": {},
     "output_type": "execute_result"
    }
   ],
   "source": [
    "df.dtypes"
   ]
  },
  {
   "cell_type": "code",
   "execution_count": 75,
   "metadata": {},
   "outputs": [
    {
     "name": "stdout",
     "output_type": "stream",
     "text": [
      "<class 'pandas.core.frame.DataFrame'>\n",
      "Int64Index: 1538086 entries, 0 to 199221\n",
      "Data columns (total 16 columns):\n",
      "bike_id                    1538086 non-null int64\n",
      "bike_share_for_all_trip    1018386 non-null object\n",
      "duration_sec               1538086 non-null int64\n",
      "end_station_id             1532841 non-null float64\n",
      "end_station_latitude       1538086 non-null float64\n",
      "end_station_longitude      1538086 non-null float64\n",
      "end_station_name           1532841 non-null object\n",
      "end_time                   1538086 non-null object\n",
      "member_birth_year          1400419 non-null float64\n",
      "member_gender              1400760 non-null object\n",
      "start_station_id           1532841 non-null float64\n",
      "start_station_latitude     1538086 non-null float64\n",
      "start_station_longitude    1538086 non-null float64\n",
      "start_station_name         1532841 non-null object\n",
      "start_time                 1538086 non-null object\n",
      "user_type                  1538086 non-null object\n",
      "dtypes: float64(7), int64(2), object(7)\n",
      "memory usage: 199.5+ MB\n"
     ]
    }
   ],
   "source": [
    "df.info()"
   ]
  },
  {
   "cell_type": "code",
   "execution_count": 76,
   "metadata": {},
   "outputs": [
    {
     "data": {
      "text/html": [
       "<div>\n",
       "<style scoped>\n",
       "    .dataframe tbody tr th:only-of-type {\n",
       "        vertical-align: middle;\n",
       "    }\n",
       "\n",
       "    .dataframe tbody tr th {\n",
       "        vertical-align: top;\n",
       "    }\n",
       "\n",
       "    .dataframe thead th {\n",
       "        text-align: right;\n",
       "    }\n",
       "</style>\n",
       "<table border=\"1\" class=\"dataframe\">\n",
       "  <thead>\n",
       "    <tr style=\"text-align: right;\">\n",
       "      <th></th>\n",
       "      <th>bike_id</th>\n",
       "      <th>duration_sec</th>\n",
       "      <th>end_station_id</th>\n",
       "      <th>end_station_latitude</th>\n",
       "      <th>end_station_longitude</th>\n",
       "      <th>member_birth_year</th>\n",
       "      <th>start_station_id</th>\n",
       "      <th>start_station_latitude</th>\n",
       "      <th>start_station_longitude</th>\n",
       "    </tr>\n",
       "  </thead>\n",
       "  <tbody>\n",
       "    <tr>\n",
       "      <th>count</th>\n",
       "      <td>1.538086e+06</td>\n",
       "      <td>1.538086e+06</td>\n",
       "      <td>1.532841e+06</td>\n",
       "      <td>1.538086e+06</td>\n",
       "      <td>1.538086e+06</td>\n",
       "      <td>1.400419e+06</td>\n",
       "      <td>1.532841e+06</td>\n",
       "      <td>1.538086e+06</td>\n",
       "      <td>1.538086e+06</td>\n",
       "    </tr>\n",
       "    <tr>\n",
       "      <th>mean</th>\n",
       "      <td>2.020603e+03</td>\n",
       "      <td>9.573795e+02</td>\n",
       "      <td>1.056254e+02</td>\n",
       "      <td>3.776912e+01</td>\n",
       "      <td>-1.223547e+02</td>\n",
       "      <td>1.981805e+03</td>\n",
       "      <td>1.076984e+02</td>\n",
       "      <td>3.776897e+01</td>\n",
       "      <td>-1.223553e+02</td>\n",
       "    </tr>\n",
       "    <tr>\n",
       "      <th>std</th>\n",
       "      <td>1.152290e+03</td>\n",
       "      <td>2.891834e+03</td>\n",
       "      <td>9.259640e+01</td>\n",
       "      <td>9.756527e-02</td>\n",
       "      <td>1.517343e-01</td>\n",
       "      <td>1.056463e+01</td>\n",
       "      <td>9.297119e+01</td>\n",
       "      <td>9.766799e-02</td>\n",
       "      <td>1.521276e-01</td>\n",
       "    </tr>\n",
       "    <tr>\n",
       "      <th>min</th>\n",
       "      <td>1.000000e+01</td>\n",
       "      <td>6.100000e+01</td>\n",
       "      <td>3.000000e+00</td>\n",
       "      <td>3.728000e+01</td>\n",
       "      <td>-1.224443e+02</td>\n",
       "      <td>1.881000e+03</td>\n",
       "      <td>3.000000e+00</td>\n",
       "      <td>3.731285e+01</td>\n",
       "      <td>-1.224443e+02</td>\n",
       "    </tr>\n",
       "    <tr>\n",
       "      <th>25%</th>\n",
       "      <td>1.045000e+03</td>\n",
       "      <td>3.610000e+02</td>\n",
       "      <td>2.700000e+01</td>\n",
       "      <td>3.777241e+01</td>\n",
       "      <td>-1.224103e+02</td>\n",
       "      <td>1.976000e+03</td>\n",
       "      <td>2.800000e+01</td>\n",
       "      <td>3.777179e+01</td>\n",
       "      <td>-1.224117e+02</td>\n",
       "    </tr>\n",
       "    <tr>\n",
       "      <th>50%</th>\n",
       "      <td>2.072000e+03</td>\n",
       "      <td>5.690000e+02</td>\n",
       "      <td>7.700000e+01</td>\n",
       "      <td>3.778240e+01</td>\n",
       "      <td>-1.223974e+02</td>\n",
       "      <td>1.984000e+03</td>\n",
       "      <td>7.900000e+01</td>\n",
       "      <td>3.778175e+01</td>\n",
       "      <td>-1.223984e+02</td>\n",
       "    </tr>\n",
       "    <tr>\n",
       "      <th>75%</th>\n",
       "      <td>2.952000e+03</td>\n",
       "      <td>8.970000e+02</td>\n",
       "      <td>1.710000e+02</td>\n",
       "      <td>3.779539e+01</td>\n",
       "      <td>-1.223881e+02</td>\n",
       "      <td>1.989000e+03</td>\n",
       "      <td>1.730000e+02</td>\n",
       "      <td>3.779539e+01</td>\n",
       "      <td>-1.223881e+02</td>\n",
       "    </tr>\n",
       "    <tr>\n",
       "      <th>max</th>\n",
       "      <td>4.307000e+03</td>\n",
       "      <td>8.636900e+04</td>\n",
       "      <td>3.570000e+02</td>\n",
       "      <td>4.551000e+01</td>\n",
       "      <td>-7.357000e+01</td>\n",
       "      <td>2.000000e+03</td>\n",
       "      <td>3.570000e+02</td>\n",
       "      <td>4.551000e+01</td>\n",
       "      <td>-7.357000e+01</td>\n",
       "    </tr>\n",
       "  </tbody>\n",
       "</table>\n",
       "</div>"
      ],
      "text/plain": [
       "            bike_id  duration_sec  end_station_id  end_station_latitude  \\\n",
       "count  1.538086e+06  1.538086e+06    1.532841e+06          1.538086e+06   \n",
       "mean   2.020603e+03  9.573795e+02    1.056254e+02          3.776912e+01   \n",
       "std    1.152290e+03  2.891834e+03    9.259640e+01          9.756527e-02   \n",
       "min    1.000000e+01  6.100000e+01    3.000000e+00          3.728000e+01   \n",
       "25%    1.045000e+03  3.610000e+02    2.700000e+01          3.777241e+01   \n",
       "50%    2.072000e+03  5.690000e+02    7.700000e+01          3.778240e+01   \n",
       "75%    2.952000e+03  8.970000e+02    1.710000e+02          3.779539e+01   \n",
       "max    4.307000e+03  8.636900e+04    3.570000e+02          4.551000e+01   \n",
       "\n",
       "       end_station_longitude  member_birth_year  start_station_id  \\\n",
       "count           1.538086e+06       1.400419e+06      1.532841e+06   \n",
       "mean           -1.223547e+02       1.981805e+03      1.076984e+02   \n",
       "std             1.517343e-01       1.056463e+01      9.297119e+01   \n",
       "min            -1.224443e+02       1.881000e+03      3.000000e+00   \n",
       "25%            -1.224103e+02       1.976000e+03      2.800000e+01   \n",
       "50%            -1.223974e+02       1.984000e+03      7.900000e+01   \n",
       "75%            -1.223881e+02       1.989000e+03      1.730000e+02   \n",
       "max            -7.357000e+01       2.000000e+03      3.570000e+02   \n",
       "\n",
       "       start_station_latitude  start_station_longitude  \n",
       "count            1.538086e+06             1.538086e+06  \n",
       "mean             3.776897e+01            -1.223553e+02  \n",
       "std              9.766799e-02             1.521276e-01  \n",
       "min              3.731285e+01            -1.224443e+02  \n",
       "25%              3.777179e+01            -1.224117e+02  \n",
       "50%              3.778175e+01            -1.223984e+02  \n",
       "75%              3.779539e+01            -1.223881e+02  \n",
       "max              4.551000e+01            -7.357000e+01  "
      ]
     },
     "execution_count": 76,
     "metadata": {},
     "output_type": "execute_result"
    }
   ],
   "source": [
    "df.describe()"
   ]
  },
  {
   "cell_type": "markdown",
   "metadata": {},
   "source": [
    "De la información anterior podemos observar que estaremos trabajando con un total de 1 538 086 observaciones y 16 variables o características. Los tipos de variables son bastante diversas, algunas de ellas son numéricas, como la duración en segundos del viaje, la latitud y longitud de la estación de partida y llegada. Sin embargo también contamos con variables categóricas como el género del usuario, el tipo de usuario, si este compartió la misma bicicleta durante todo el viaje **REVISAR**, e incluso de tipo string como el nombre de la estación de salida y llegada. \n",
    "\n",
    "Vamos ahora a explorar la distribución de algunas de las variables de la base mediante histogramas. "
   ]
  },
  {
   "cell_type": "code",
   "execution_count": 23,
   "metadata": {
    "scrolled": true
   },
   "outputs": [
    {
     "data": {
      "text/plain": [
       "<matplotlib.axes._subplots.AxesSubplot at 0x1e3004a1828>"
      ]
     },
     "execution_count": 23,
     "metadata": {},
     "output_type": "execute_result"
    },
    {
     "data": {
      "image/png": "[encoded data removed]",
      "text/plain": [
       "<Figure size 432x288 with 1 Axes>"
      ]
     },
     "metadata": {},
     "output_type": "display_data"
    }
   ],
   "source": [
    "df['member_birth_year'].hist()"
   ]
  },
  {
   "cell_type": "code",
   "execution_count": 24,
   "metadata": {},
   "outputs": [
    {
     "data": {
      "text/plain": [
       "<matplotlib.axes._subplots.AxesSubplot at 0x1e3008a7518>"
      ]
     },
     "execution_count": 24,
     "metadata": {},
     "output_type": "execute_result"
    },
    {
     "data": {
      "image/png": "[encoded data removed]",
      "text/plain": [
       "<Figure size 432x288 with 1 Axes>"
      ]
     },
     "metadata": {},
     "output_type": "display_data"
    }
   ],
   "source": [
    "df['duration_sec'].hist()"
   ]
  },
  {
   "cell_type": "code",
   "execution_count": 25,
   "metadata": {},
   "outputs": [
    {
     "data": {
      "text/plain": [
       "<matplotlib.axes._subplots.AxesSubplot at 0x1e300918748>"
      ]
     },
     "execution_count": 25,
     "metadata": {},
     "output_type": "execute_result"
    },
    {
     "data": {
      "image/png": "[encoded data removed]",
      "text/plain": [
       "<Figure size 432x288 with 1 Axes>"
      ]
     },
     "metadata": {},
     "output_type": "display_data"
    }
   ],
   "source": [
    "df['end_station_latitude'].hist()"
   ]
  },
  {
   "cell_type": "code",
   "execution_count": 20,
   "metadata": {},
   "outputs": [
    {
     "data": {
      "text/plain": [
       "<matplotlib.axes._subplots.AxesSubplot at 0x1e3006c5400>"
      ]
     },
     "execution_count": 20,
     "metadata": {},
     "output_type": "execute_result"
    },
    {
     "data": {
      "image/png": "[encoded data removed]",
      "text/plain": [
       "<Figure size 432x288 with 1 Axes>"
      ]
     },
     "metadata": {},
     "output_type": "display_data"
    }
   ],
   "source": [
    "df['end_station_longitude'].hist()"
   ]
  },
  {
   "cell_type": "code",
   "execution_count": 21,
   "metadata": {},
   "outputs": [
    {
     "data": {
      "text/plain": [
       "<matplotlib.axes._subplots.AxesSubplot at 0x1e301548898>"
      ]
     },
     "execution_count": 21,
     "metadata": {},
     "output_type": "execute_result"
    },
    {
     "data": {
      "image/png": "[encoded data removed]",
      "text/plain": [
       "<Figure size 432x288 with 1 Axes>"
      ]
     },
     "metadata": {},
     "output_type": "display_data"
    }
   ],
   "source": [
    "df['start_station_latitude'].hist()"
   ]
  },
  {
   "cell_type": "code",
   "execution_count": 22,
   "metadata": {},
   "outputs": [
    {
     "data": {
      "text/plain": [
       "<matplotlib.axes._subplots.AxesSubplot at 0x1e3007b8f60>"
      ]
     },
     "execution_count": 22,
     "metadata": {},
     "output_type": "execute_result"
    },
    {
     "data": {
      "image/png": "[encoded data removed]",
      "text/plain": [
       "<Figure size 432x288 with 1 Axes>"
      ]
     },
     "metadata": {},
     "output_type": "display_data"
    }
   ],
   "source": [
    "df['start_station_longitude'].hist()"
   ]
  },
  {
   "cell_type": "markdown",
   "metadata": {},
   "source": [
    "En general se puede observar que la latitud y longitud, tanto de las estaciones iniciales como las de llegada, poseen una distribución bastante asimétrica, pues esta se acumula principalmente a la izquierda. Algo similar sucede con la distribución de la duración en segundos de los viajes, pues en su mayoría se concentran entre 0 y 1000. \n",
    "\n",
    "Por otro lado, la información siguiente nos permite observar que los usuarios son en su mayoría hombres y además son más los miembros subscritos que clientes casuales quienes utilizan las bicicletas. Asimismo la mayoría de usuarios no compartieron la bicicleta durante todo el viaje *NO ESTOY SEGURA DE QUÉ SIGNIFICA ESTA ÚLTIMA VARIABLE, REVISAR*."
   ]
  },
  {
   "cell_type": "code",
   "execution_count": 27,
   "metadata": {},
   "outputs": [
    {
     "name": "stdout",
     "output_type": "stream",
     "text": [
      "member_gender\n",
      "Female     336222\n",
      "Male      1043512\n",
      "Other       21026\n",
      "dtype: int64\n",
      "user_type\n",
      "Customer       271263\n",
      "Subscriber    1266823\n",
      "dtype: int64\n",
      "bike_share_for_all_trip\n",
      "No     934032\n",
      "Yes     84354\n",
      "dtype: int64\n"
     ]
    }
   ],
   "source": [
    "print(df.groupby(\"member_gender\").size())\n",
    "print(df.groupby(\"user_type\").size())\n",
    "print(df.groupby(\"bike_share_for_all_trip\").size())"
   ]
  },
  {
   "cell_type": "markdown",
   "metadata": {},
   "source": [
    "En las siguientes líneas de código vemos cuál es el máximo y mínimo número de veces que una estación de llegada o salida ha sido visitada por un usuario. Además se crearon unos histogramas que aproximan la distribución de la cantidad de veces que la estación de llegada o salida ha sido visitada, de donde se puede inferir que prácticamente las estaciones de llegada más visitadas son también las estaciones de salida más visitadas por los usuarios. Esta última idea será retomada más adelante con ayuda de algunos gráficos de dispersión. "
   ]
  },
  {
   "cell_type": "code",
   "execution_count": 55,
   "metadata": {},
   "outputs": [
    {
     "data": {
      "text/plain": [
       "43013"
      ]
     },
     "execution_count": 55,
     "metadata": {},
     "output_type": "execute_result"
    }
   ],
   "source": [
    "df['end_station_id'].value_counts().max()\n"
   ]
  },
  {
   "cell_type": "code",
   "execution_count": 43,
   "metadata": {},
   "outputs": [
    {
     "data": {
      "text/plain": [
       "5"
      ]
     },
     "execution_count": 43,
     "metadata": {},
     "output_type": "execute_result"
    }
   ],
   "source": [
    "df['end_station_id'].value_counts().min()\n"
   ]
  },
  {
   "cell_type": "code",
   "execution_count": 56,
   "metadata": {},
   "outputs": [
    {
     "data": {
      "text/plain": [
       "<matplotlib.axes._subplots.AxesSubplot at 0x1e30048d358>"
      ]
     },
     "execution_count": 56,
     "metadata": {},
     "output_type": "execute_result"
    },
    {
     "data": {
      "image/png": "[encoded data removed]",
      "text/plain": [
       "<Figure size 432x288 with 1 Axes>"
      ]
     },
     "metadata": {},
     "output_type": "display_data"
    }
   ],
   "source": [
    "df['end_station_id'].value_counts().hist()"
   ]
  },
  {
   "cell_type": "code",
   "execution_count": 44,
   "metadata": {},
   "outputs": [
    {
     "data": {
      "text/plain": [
       "37401"
      ]
     },
     "execution_count": 44,
     "metadata": {},
     "output_type": "execute_result"
    }
   ],
   "source": [
    "df['start_station_id'].value_counts().max()\n"
   ]
  },
  {
   "cell_type": "code",
   "execution_count": 45,
   "metadata": {},
   "outputs": [
    {
     "data": {
      "text/plain": [
       "2"
      ]
     },
     "execution_count": 45,
     "metadata": {},
     "output_type": "execute_result"
    }
   ],
   "source": [
    "df['start_station_id'].value_counts().min()"
   ]
  },
  {
   "cell_type": "code",
   "execution_count": 57,
   "metadata": {},
   "outputs": [
    {
     "data": {
      "text/plain": [
       "<matplotlib.axes._subplots.AxesSubplot at 0x1e303422128>"
      ]
     },
     "execution_count": 57,
     "metadata": {},
     "output_type": "execute_result"
    },
    {
     "data": {
      "image/png": "[encoded data removed]",
      "text/plain": [
       "<Figure size 432x288 with 1 Axes>"
      ]
     },
     "metadata": {},
     "output_type": "display_data"
    }
   ],
   "source": [
    "df['start_station_id'].value_counts().hist()"
   ]
  },
  {
   "cell_type": "markdown",
   "metadata": {},
   "source": [
    "Las distribuciones de las variables también pueden ser aproximadas por medio de boxplots, en donde se pueden observar más fácilmente outliers. Por lo que en los siguientes gráficos se presentan boxplots de las variables de la base de datos. "
   ]
  },
  {
   "cell_type": "code",
   "execution_count": 67,
   "metadata": {},
   "outputs": [
    {
     "data": {
      "text/plain": [
       "957.3794950347379"
      ]
     },
     "execution_count": 67,
     "metadata": {},
     "output_type": "execute_result"
    },
    {
     "data": {
      "image/png": "[encoded data removed]",
      "text/plain": [
       "<Figure size 432x288 with 1 Axes>"
      ]
     },
     "metadata": {},
     "output_type": "display_data"
    }
   ],
   "source": [
    "df.plot(kind='box')\n",
    "df[\"duration_sec\"].mean()"
   ]
  },
  {
   "cell_type": "code",
   "execution_count": 66,
   "metadata": {},
   "outputs": [
    {
     "data": {
      "text/plain": [
       "<matplotlib.axes._subplots.AxesSubplot at 0x1e3034a12e8>"
      ]
     },
     "execution_count": 66,
     "metadata": {},
     "output_type": "execute_result"
    },
    {
     "data": {
      "image/png": "[encoded data removed]",
      "text/plain": [
       "<Figure size 432x288 with 1 Axes>"
      ]
     },
     "metadata": {},
     "output_type": "display_data"
    }
   ],
   "source": [
    "df.plot(kind='box',ylim=[0,1000])"
   ]
  },
  {
   "cell_type": "markdown",
   "metadata": {},
   "source": [
    "Uno de las características que sobresale de los gráficos anteriores es que existen algunos outliers para la variable duración en segundos del viaje, pues apersa de que la mayoría de las observaciones se encuentran alrededor entre 300 y 1000, e incluso su media es 957,38 segundos, existen observaciones de hasta más de 8000 segundos. \n",
    "\n",
    "Finalmente, es importante conocer la relación que existe entre las variables con las que se está trabajando, por lo que se calculó la matriz de correlación entre las variables numéricas."
   ]
  },
  {
   "cell_type": "code",
   "execution_count": 71,
   "metadata": {},
   "outputs": [
    {
     "data": {
      "text/html": [
       "<div>\n",
       "<style scoped>\n",
       "    .dataframe tbody tr th:only-of-type {\n",
       "        vertical-align: middle;\n",
       "    }\n",
       "\n",
       "    .dataframe tbody tr th {\n",
       "        vertical-align: top;\n",
       "    }\n",
       "\n",
       "    .dataframe thead th {\n",
       "        text-align: right;\n",
       "    }\n",
       "</style>\n",
       "<table border=\"1\" class=\"dataframe\">\n",
       "  <thead>\n",
       "    <tr style=\"text-align: right;\">\n",
       "      <th></th>\n",
       "      <th>bike_id</th>\n",
       "      <th>duration_sec</th>\n",
       "      <th>end_station_id</th>\n",
       "      <th>end_station_latitude</th>\n",
       "      <th>end_station_longitude</th>\n",
       "      <th>member_birth_year</th>\n",
       "      <th>start_station_id</th>\n",
       "      <th>start_station_latitude</th>\n",
       "      <th>start_station_longitude</th>\n",
       "    </tr>\n",
       "  </thead>\n",
       "  <tbody>\n",
       "    <tr>\n",
       "      <th>bike_id</th>\n",
       "      <td>1.000000</td>\n",
       "      <td>-0.009014</td>\n",
       "      <td>-0.053438</td>\n",
       "      <td>0.020492</td>\n",
       "      <td>-0.064389</td>\n",
       "      <td>0.018801</td>\n",
       "      <td>-0.055265</td>\n",
       "      <td>0.020229</td>\n",
       "      <td>-0.064182</td>\n",
       "    </tr>\n",
       "    <tr>\n",
       "      <th>duration_sec</th>\n",
       "      <td>-0.009014</td>\n",
       "      <td>1.000000</td>\n",
       "      <td>-0.004209</td>\n",
       "      <td>0.001224</td>\n",
       "      <td>-0.004224</td>\n",
       "      <td>0.003733</td>\n",
       "      <td>-0.010187</td>\n",
       "      <td>0.000621</td>\n",
       "      <td>-0.003259</td>\n",
       "    </tr>\n",
       "    <tr>\n",
       "      <th>end_station_id</th>\n",
       "      <td>-0.053438</td>\n",
       "      <td>-0.004209</td>\n",
       "      <td>1.000000</td>\n",
       "      <td>-0.317472</td>\n",
       "      <td>0.625223</td>\n",
       "      <td>0.106103</td>\n",
       "      <td>0.541569</td>\n",
       "      <td>-0.295858</td>\n",
       "      <td>0.631242</td>\n",
       "    </tr>\n",
       "    <tr>\n",
       "      <th>end_station_latitude</th>\n",
       "      <td>0.020492</td>\n",
       "      <td>0.001224</td>\n",
       "      <td>-0.317472</td>\n",
       "      <td>1.000000</td>\n",
       "      <td>-0.477717</td>\n",
       "      <td>-0.074020</td>\n",
       "      <td>-0.292187</td>\n",
       "      <td>0.990668</td>\n",
       "      <td>-0.477264</td>\n",
       "    </tr>\n",
       "    <tr>\n",
       "      <th>end_station_longitude</th>\n",
       "      <td>-0.064389</td>\n",
       "      <td>-0.004224</td>\n",
       "      <td>0.625223</td>\n",
       "      <td>-0.477717</td>\n",
       "      <td>1.000000</td>\n",
       "      <td>0.070869</td>\n",
       "      <td>0.616172</td>\n",
       "      <td>-0.476294</td>\n",
       "      <td>0.996212</td>\n",
       "    </tr>\n",
       "    <tr>\n",
       "      <th>member_birth_year</th>\n",
       "      <td>0.018801</td>\n",
       "      <td>0.003733</td>\n",
       "      <td>0.106103</td>\n",
       "      <td>-0.074020</td>\n",
       "      <td>0.070869</td>\n",
       "      <td>1.000000</td>\n",
       "      <td>0.107115</td>\n",
       "      <td>-0.073836</td>\n",
       "      <td>0.070216</td>\n",
       "    </tr>\n",
       "    <tr>\n",
       "      <th>start_station_id</th>\n",
       "      <td>-0.055265</td>\n",
       "      <td>-0.010187</td>\n",
       "      <td>0.541569</td>\n",
       "      <td>-0.292187</td>\n",
       "      <td>0.616172</td>\n",
       "      <td>0.107115</td>\n",
       "      <td>1.000000</td>\n",
       "      <td>-0.305187</td>\n",
       "      <td>0.613084</td>\n",
       "    </tr>\n",
       "    <tr>\n",
       "      <th>start_station_latitude</th>\n",
       "      <td>0.020229</td>\n",
       "      <td>0.000621</td>\n",
       "      <td>-0.295858</td>\n",
       "      <td>0.990668</td>\n",
       "      <td>-0.476294</td>\n",
       "      <td>-0.073836</td>\n",
       "      <td>-0.305187</td>\n",
       "      <td>1.000000</td>\n",
       "      <td>-0.473076</td>\n",
       "    </tr>\n",
       "    <tr>\n",
       "      <th>start_station_longitude</th>\n",
       "      <td>-0.064182</td>\n",
       "      <td>-0.003259</td>\n",
       "      <td>0.631242</td>\n",
       "      <td>-0.477264</td>\n",
       "      <td>0.996212</td>\n",
       "      <td>0.070216</td>\n",
       "      <td>0.613084</td>\n",
       "      <td>-0.473076</td>\n",
       "      <td>1.000000</td>\n",
       "    </tr>\n",
       "  </tbody>\n",
       "</table>\n",
       "</div>"
      ],
      "text/plain": [
       "                          bike_id  duration_sec  end_station_id  \\\n",
       "bike_id                  1.000000     -0.009014       -0.053438   \n",
       "duration_sec            -0.009014      1.000000       -0.004209   \n",
       "end_station_id          -0.053438     -0.004209        1.000000   \n",
       "end_station_latitude     0.020492      0.001224       -0.317472   \n",
       "end_station_longitude   -0.064389     -0.004224        0.625223   \n",
       "member_birth_year        0.018801      0.003733        0.106103   \n",
       "start_station_id        -0.055265     -0.010187        0.541569   \n",
       "start_station_latitude   0.020229      0.000621       -0.295858   \n",
       "start_station_longitude -0.064182     -0.003259        0.631242   \n",
       "\n",
       "                         end_station_latitude  end_station_longitude  \\\n",
       "bike_id                              0.020492              -0.064389   \n",
       "duration_sec                         0.001224              -0.004224   \n",
       "end_station_id                      -0.317472               0.625223   \n",
       "end_station_latitude                 1.000000              -0.477717   \n",
       "end_station_longitude               -0.477717               1.000000   \n",
       "member_birth_year                   -0.074020               0.070869   \n",
       "start_station_id                    -0.292187               0.616172   \n",
       "start_station_latitude               0.990668              -0.476294   \n",
       "start_station_longitude             -0.477264               0.996212   \n",
       "\n",
       "                         member_birth_year  start_station_id  \\\n",
       "bike_id                           0.018801         -0.055265   \n",
       "duration_sec                      0.003733         -0.010187   \n",
       "end_station_id                    0.106103          0.541569   \n",
       "end_station_latitude             -0.074020         -0.292187   \n",
       "end_station_longitude             0.070869          0.616172   \n",
       "member_birth_year                 1.000000          0.107115   \n",
       "start_station_id                  0.107115          1.000000   \n",
       "start_station_latitude           -0.073836         -0.305187   \n",
       "start_station_longitude           0.070216          0.613084   \n",
       "\n",
       "                         start_station_latitude  start_station_longitude  \n",
       "bike_id                                0.020229                -0.064182  \n",
       "duration_sec                           0.000621                -0.003259  \n",
       "end_station_id                        -0.295858                 0.631242  \n",
       "end_station_latitude                   0.990668                -0.477264  \n",
       "end_station_longitude                 -0.476294                 0.996212  \n",
       "member_birth_year                     -0.073836                 0.070216  \n",
       "start_station_id                      -0.305187                 0.613084  \n",
       "start_station_latitude                 1.000000                -0.473076  \n",
       "start_station_longitude               -0.473076                 1.000000  "
      ]
     },
     "execution_count": 71,
     "metadata": {},
     "output_type": "execute_result"
    }
   ],
   "source": [
    "df.corr()"
   ]
  },
  {
   "cell_type": "markdown",
   "metadata": {},
   "source": [
    "Es fácil observar que la latitud entre las estaciones de salida y llegada de los usuarios tienen una correlación lineal bastante elevada, pues es muy cercana a 1. Lo mismo sucede en el caso de la longitud. Para ilustrar esto se realizó gráficos de dispersión entre las variables en cuestión y es fácil observar la relación mencionada anteriormente, pues en general conforme mayor es la latitud de la estación de salida, mayor es la latitud de la estación de llegada, y lo mismo para la longitud, con una especial concentración en los valores menores.\n",
    "Esto último se complementa con los histogramas que se observaron anteriormente acerca de la distribución de la latitud y longitud de las estaciones de salida y llegada, pues se observó una acumulación importante en los valores más pequeños. Otra de las ideas que se refuerzan con esta acumulación de puntos, es que las estaciones de salida que más se utilizan son también las estaciones de llegada más utilizadas, como se pudo observar en histogramas anteriores. \n",
    "Y finalmente, algo que logra explicar la alta correlación entre la latitud así como la longitud de las estaciones de salida y llegada de cada usuario es que; como ya se señaló, los recorridos tienen en promedio una duración bastante corta, por lo que no es extraño que la estación de llegada de un usuario esté muy cerca de la que salió minutos antes. \n"
   ]
  },
  {
   "cell_type": "code",
   "execution_count": 69,
   "metadata": {},
   "outputs": [
    {
     "data": {
      "text/plain": [
       "<matplotlib.axes._subplots.AxesSubplot at 0x1e330455fd0>"
      ]
     },
     "execution_count": 69,
     "metadata": {},
     "output_type": "execute_result"
    },
    {
     "data": {
      "image/png": "[encoded data removed]",
      "text/plain": [
       "<Figure size 432x288 with 1 Axes>"
      ]
     },
     "metadata": {},
     "output_type": "display_data"
    },
    {
     "data": {
      "image/png": "[encoded data removed]",
      "text/plain": [
       "<Figure size 432x288 with 1 Axes>"
      ]
     },
     "metadata": {},
     "output_type": "display_data"
    }
   ],
   "source": [
    "df.plot.scatter(x='start_station_latitude', y='end_station_latitude')\n",
    "df.plot.scatter(x='start_station_longitude', y='end_station_longitude')"
   ]
  }
 ],
 "metadata": {
  "kernelspec": {
   "display_name": "Python 3",
   "language": "python",
   "name": "python3"
  },
  "language_info": {
   "codemirror_mode": {
    "name": "ipython",
    "version": 3
   },
   "file_extension": ".py",
   "mimetype": "text/x-python",
   "name": "python",
   "nbconvert_exporter": "python",
   "pygments_lexer": "ipython3",
   "version": "3.6.5"
  }
 },
 "nbformat": 4,
 "nbformat_minor": 2
}
